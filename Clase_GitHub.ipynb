{
 "cells": [
  {
   "cell_type": "code",
   "execution_count": 3,
   "id": "151d85bf",
   "metadata": {},
   "outputs": [
    {
     "name": "stdout",
     "output_type": "stream",
     "text": [
      "Xavier tiene 18 años.\n",
      "Feliz cumpleaños, Xavier! Ahora tienes 19 años\n",
      "Xavier tiene 19 años.\n"
     ]
    }
   ],
   "source": [
    "# Se inicializa la clase con class\n",
    "class Persona:\n",
    "    \n",
    "    # Ponemos el metodo constructor (Recordar que lleva \"__init__\" al inicio)\n",
    "    def __init__(self, nombre, edad):\n",
    "        \n",
    "        # Ponemos los atributos de nombre, edad (no olvidar el self, ya que me sirven para tener acceso a los atributos)\n",
    "        self.nombre = nombre\n",
    "        self.edad = edad\n",
    "        \n",
    "    # Creamos la propiedad descripcion, donde devuelve una cadena \n",
    "    # describiendo a la persona (no olvidar el \"@property\" antes de la propiedad)\n",
    "    @property\n",
    "    def descripcion(self):\n",
    "        return f\"{self.nombre} tiene {self.edad} años.\"\n",
    "    \n",
    "    # Creamos un metodo llamado celebrar_cumpleaños donde se muestra un mensaje\n",
    "    # felicitando a la persona\n",
    "    def celebrar_cumpleaños(self):\n",
    "        self.edad += 1\n",
    "        print(f\"Feliz cumpleaños, {self.nombre}! Ahora tienes {self.edad} años\")\n",
    "\n",
    "# Uso de la clase Persona\n",
    "cumpleañero= Persona(\"Xavier\", 18)\n",
    "print(cumpleañero.descripcion)\n",
    "\n",
    "cumpleañero.celebrar_cumpleaños()\n",
    "print(cumpleañero.descripcion)\n",
    "\n",
    "# Este programa me indica el nombre y la edad de una persona\n",
    "# Ademas muestra un mensaje de felicitaciones y poniendo la edad que cumplio"
   ]
  }
 ],
 "metadata": {
  "kernelspec": {
   "display_name": "Python 3 (ipykernel)",
   "language": "python",
   "name": "python3"
  },
  "language_info": {
   "codemirror_mode": {
    "name": "ipython",
    "version": 3
   },
   "file_extension": ".py",
   "mimetype": "text/x-python",
   "name": "python",
   "nbconvert_exporter": "python",
   "pygments_lexer": "ipython3",
   "version": "3.11.5"
  }
 },
 "nbformat": 4,
 "nbformat_minor": 5
}
